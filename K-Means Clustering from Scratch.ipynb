{
 "cells": [
  {
   "cell_type": "code",
   "execution_count": 1,
   "id": "c928e776",
   "metadata": {},
   "outputs": [],
   "source": [
    "import numpy as np\n",
    "import pandas as pd\n",
    "import seaborn as sns\n",
    "import matplotlib.pyplot as plt\n",
    "import random"
   ]
  },
  {
   "cell_type": "code",
   "execution_count": 48,
   "id": "fc40dae6",
   "metadata": {},
   "outputs": [],
   "source": [
    "num_iters = 5\n",
    "K = 3\n",
    "from sklearn.datasets import make_blobs\n",
    "X, y = make_blobs(n_samples=2000, centers=4, n_features=2, random_state=0)"
   ]
  },
  {
   "cell_type": "code",
   "execution_count": 49,
   "id": "183bc231",
   "metadata": {},
   "outputs": [
    {
     "data": {
      "text/plain": [
       "array([[-0.46530384,  1.73299482],\n",
       "       [-0.33963733,  3.84220272],\n",
       "       [ 2.25309569,  0.99541446],\n",
       "       ...,\n",
       "       [ 1.03616476,  4.09126428],\n",
       "       [-0.5901088 ,  3.68821314],\n",
       "       [ 2.30405277,  4.20250584]])"
      ]
     },
     "execution_count": 49,
     "metadata": {},
     "output_type": "execute_result"
    }
   ],
   "source": [
    "X"
   ]
  },
  {
   "cell_type": "code",
   "execution_count": 50,
   "id": "44f212f9",
   "metadata": {},
   "outputs": [
    {
     "data": {
      "text/plain": [
       "(2000, 2)"
      ]
     },
     "execution_count": 50,
     "metadata": {},
     "output_type": "execute_result"
    }
   ],
   "source": [
    "# Checking Size of Data Set\n",
    "X.shape"
   ]
  },
  {
   "cell_type": "code",
   "execution_count": 51,
   "id": "6543e7ce",
   "metadata": {},
   "outputs": [],
   "source": [
    "m=X.shape[0]\n",
    "n=X.shape[1]"
   ]
  },
  {
   "cell_type": "code",
   "execution_count": 52,
   "id": "77ce5ea3",
   "metadata": {},
   "outputs": [
    {
     "data": {
      "text/plain": [
       "2000"
      ]
     },
     "execution_count": 52,
     "metadata": {},
     "output_type": "execute_result"
    }
   ],
   "source": [
    "m"
   ]
  },
  {
   "cell_type": "code",
   "execution_count": 53,
   "id": "d97eee9f",
   "metadata": {},
   "outputs": [
    {
     "data": {
      "text/plain": [
       "2"
      ]
     },
     "execution_count": 53,
     "metadata": {},
     "output_type": "execute_result"
    }
   ],
   "source": [
    "n"
   ]
  },
  {
   "cell_type": "code",
   "execution_count": 54,
   "id": "818ed81f",
   "metadata": {},
   "outputs": [],
   "source": [
    "import random\n",
    "centroids=np.array([]).reshape(n,0) # creating an empty centroid array"
   ]
  },
  {
   "cell_type": "code",
   "execution_count": 55,
   "id": "26dd2f64",
   "metadata": {},
   "outputs": [
    {
     "data": {
      "text/plain": [
       "array([], shape=(2, 0), dtype=float64)"
      ]
     },
     "execution_count": 55,
     "metadata": {},
     "output_type": "execute_result"
    }
   ],
   "source": [
    "centroids"
   ]
  },
  {
   "cell_type": "code",
   "execution_count": 56,
   "id": "742331e0",
   "metadata": {},
   "outputs": [],
   "source": [
    "for k in range(K):\n",
    "    centroids=np.c_[centroids,X[random.randint(0,m-1)]] # creating 5 random centroids"
   ]
  },
  {
   "cell_type": "code",
   "execution_count": 57,
   "id": "c870876f",
   "metadata": {},
   "outputs": [
    {
     "data": {
      "text/plain": [
       "array([[-1.11735223,  0.98850206, -2.57172033],\n",
       "       [ 2.11828876,  5.87304694,  3.7077872 ]])"
      ]
     },
     "execution_count": 57,
     "metadata": {},
     "output_type": "execute_result"
    }
   ],
   "source": [
    "centroids"
   ]
  },
  {
   "cell_type": "code",
   "execution_count": 58,
   "id": "d1264c27",
   "metadata": {},
   "outputs": [],
   "source": [
    "# creating an empty array\n",
    "euclid=np.array([]).reshape(m,0)"
   ]
  },
  {
   "cell_type": "code",
   "execution_count": 59,
   "id": "23f05c39",
   "metadata": {},
   "outputs": [
    {
     "data": {
      "text/plain": [
       "array([], shape=(2000, 0), dtype=float64)"
      ]
     },
     "execution_count": 59,
     "metadata": {},
     "output_type": "execute_result"
    }
   ],
   "source": [
    "euclid"
   ]
  },
  {
   "cell_type": "code",
   "execution_count": 60,
   "id": "224abe71",
   "metadata": {},
   "outputs": [],
   "source": [
    "# finding distance between for each centroid\n",
    "for k in range(K):\n",
    "    dist=np.sum((X-centroids[:,k])**2,axis=1)\n",
    "    euclid=np.c_[euclid,dist]"
   ]
  },
  {
   "cell_type": "code",
   "execution_count": 71,
   "id": "256bf479",
   "metadata": {},
   "outputs": [
    {
     "data": {
      "text/plain": [
       "array([ 2.80059764,  0.71399838, 15.9922423 , ...,  4.75351374,\n",
       "        0.3070159 , 11.71468976])"
      ]
     },
     "execution_count": 71,
     "metadata": {},
     "output_type": "execute_result"
    }
   ],
   "source": [
    "dist"
   ]
  },
  {
   "cell_type": "code",
   "execution_count": 73,
   "id": "1d5e527d",
   "metadata": {},
   "outputs": [
    {
     "data": {
      "text/plain": [
       "array([[ 6.07984058, 34.49468991,  2.80059764],\n",
       "       [10.32925272, 14.41560367,  0.71399838],\n",
       "       [ 0.47666948, 53.91962507, 15.9922423 ],\n",
       "       ...,\n",
       "       [ 6.94866506, 16.3016413 ,  4.75351374],\n",
       "       [10.90791302, 15.32734004,  0.3070159 ],\n",
       "       [ 6.67412975, 22.28712092, 11.71468976]])"
      ]
     },
     "execution_count": 73,
     "metadata": {},
     "output_type": "execute_result"
    }
   ],
   "source": [
    "euclid"
   ]
  },
  {
   "cell_type": "code",
   "execution_count": 61,
   "id": "ad97f740",
   "metadata": {},
   "outputs": [],
   "source": [
    "# storing the minimum value\n",
    "minimum=np.argmin(euclid,axis=1)+1"
   ]
  },
  {
   "cell_type": "code",
   "execution_count": 62,
   "id": "a7901f11",
   "metadata": {},
   "outputs": [],
   "source": [
    "# computing the mean of separated clusters\n",
    "cent={}\n",
    "for k in range(K):\n",
    "    cent[k+1]=np.array([]).reshape(2,0)"
   ]
  },
  {
   "cell_type": "code",
   "execution_count": 63,
   "id": "7d464a94",
   "metadata": {},
   "outputs": [],
   "source": [
    "# assigning of clusters to points\n",
    "for k in range(m):\n",
    "    cent[minimum[k]]=np.c_[cent[minimum[k]],X[k]]\n",
    "\n",
    "for k in range(K):\n",
    "    cent[k+1]=cent[k+1].T"
   ]
  },
  {
   "cell_type": "code",
   "execution_count": 64,
   "id": "7499a384",
   "metadata": {},
   "outputs": [
    {
     "data": {
      "text/plain": [
       "{1: array([[-0.46530384,  1.73299482],\n",
       "        [-0.33963733,  3.84220272],\n",
       "        [ 2.25309569,  0.99541446],\n",
       "        ...,\n",
       "        [ 2.99139667,  1.57604376],\n",
       "        [-0.42969284,  3.71372968],\n",
       "        [-0.5901088 ,  3.68821314]]),\n",
       " 2: array([[-1.58231872,  8.74311864],\n",
       "        [-0.23425799,  4.43276456],\n",
       "        [-1.33558396,  7.28149527],\n",
       "        ...,\n",
       "        [-1.09755763,  8.53097833],\n",
       "        [ 1.03616476,  4.09126428],\n",
       "        [ 2.30405277,  4.20250584]]),\n",
       " 3: array([[-2.71160084,  7.40565451],\n",
       "        [-1.52732134,  3.29203735],\n",
       "        [-2.32460677,  3.38725449],\n",
       "        [-2.28305106,  7.05831251],\n",
       "        [-4.05892383,  7.68480638],\n",
       "        [-3.37603474,  4.3278344 ],\n",
       "        [-2.30718388,  4.37191801],\n",
       "        [-2.42679049,  3.39996287],\n",
       "        [-2.7141701 ,  7.76587146],\n",
       "        [-1.64186578,  3.41373293],\n",
       "        [-4.25475449,  7.78829415],\n",
       "        [-2.03632381,  6.39482767],\n",
       "        [-2.03472419,  6.65898686],\n",
       "        [-3.15407365,  7.2673743 ],\n",
       "        [-2.26629932,  2.5419223 ],\n",
       "        [-0.79226837,  4.65926912],\n",
       "        [-2.63648927,  5.26025739],\n",
       "        [-3.2408194 ,  3.32296253],\n",
       "        [-2.21959809,  6.97141188],\n",
       "        [-3.06982546,  2.51611852],\n",
       "        [-0.94996942,  3.73623599],\n",
       "        [-1.50469135,  3.4613357 ],\n",
       "        [-1.95611331,  4.29310768],\n",
       "        [-3.17970766,  3.98380908],\n",
       "        [-3.33184811,  6.68430988],\n",
       "        [-2.01399544,  3.81684966],\n",
       "        [-1.43149214,  5.25529192],\n",
       "        [-2.94066151,  6.8892394 ],\n",
       "        [-2.25361604,  2.70071915],\n",
       "        [-2.37597689,  4.5473823 ],\n",
       "        [-2.14798671,  4.65245444],\n",
       "        [-1.08212265,  3.94027458],\n",
       "        [-2.88984496,  2.12612575],\n",
       "        [-3.10059843,  7.12213303],\n",
       "        [-2.4155493 ,  2.78207242],\n",
       "        [-1.70051225,  3.81612288],\n",
       "        [-1.42472569,  3.42287698],\n",
       "        [-2.21538285,  6.82491381],\n",
       "        [-1.79943676,  3.65540377],\n",
       "        [-1.65549156,  3.37330225],\n",
       "        [-2.47742196,  2.45388584],\n",
       "        [-2.73775965,  2.52414855],\n",
       "        [-2.73941976,  2.83728375],\n",
       "        [-2.5937635 ,  4.44316002],\n",
       "        [-2.18661526,  3.39189013],\n",
       "        [-1.94598601,  3.3149885 ],\n",
       "        [-1.65752441,  4.3185713 ],\n",
       "        [-2.30413206,  2.61787868],\n",
       "        [-0.8768195 ,  4.73882154],\n",
       "        [-4.10595476,  1.98037288],\n",
       "        [-0.65615322,  4.23665317],\n",
       "        [-0.92474052,  3.79115531],\n",
       "        [-1.67425768,  3.97768856],\n",
       "        [-2.17856022,  3.42269772],\n",
       "        [-2.72937932,  3.3339819 ],\n",
       "        [-2.72433171,  4.40428151],\n",
       "        [-2.89676352,  3.69734279],\n",
       "        [-1.22158326,  3.94204719],\n",
       "        [-3.5464441 ,  1.93367326],\n",
       "        [-1.64139106,  3.16951251],\n",
       "        [-2.27192723,  3.93014277],\n",
       "        [-1.32402297,  4.1645774 ],\n",
       "        [-3.55521354,  8.56705252],\n",
       "        [-0.66137882,  4.1919268 ],\n",
       "        [-1.85791462,  3.36817109],\n",
       "        [-3.15812352,  2.61640995],\n",
       "        [-2.41091874,  4.1520263 ],\n",
       "        [-1.42025172,  4.43688554],\n",
       "        [-1.65055364,  3.42285224],\n",
       "        [-1.92302721,  5.17216596],\n",
       "        [-2.26194505,  6.55787164],\n",
       "        [-1.59676051,  3.16799617],\n",
       "        [-2.62687482,  2.51353004],\n",
       "        [-2.08103526,  4.41737375],\n",
       "        [-2.11766117,  3.88985256],\n",
       "        [-2.45426694,  3.80622112],\n",
       "        [-1.67454143,  4.04969422],\n",
       "        [-2.57172033,  3.7077872 ],\n",
       "        [-2.46485161,  3.19161171],\n",
       "        [-2.43436999,  2.72547805],\n",
       "        [-3.3321557 ,  3.74826827],\n",
       "        [-1.37361554,  3.61201097],\n",
       "        [-2.46177938,  6.63257169],\n",
       "        [-2.22647639,  6.31245988],\n",
       "        [-2.3027016 ,  6.96982637],\n",
       "        [-3.05794597,  5.97593641],\n",
       "        [-3.0496721 ,  3.47484638],\n",
       "        [-2.84963713,  2.46959946],\n",
       "        [-2.9538417 ,  1.98531203],\n",
       "        [-2.25326985,  2.74542366],\n",
       "        [-2.08203036,  2.74539994],\n",
       "        [-2.93772733,  3.08279499],\n",
       "        [-4.24658338,  1.82128051],\n",
       "        [-3.19782756,  6.87535445],\n",
       "        [-2.11127929,  3.28347372],\n",
       "        [-0.85734167,  3.92230145],\n",
       "        [-3.24423264,  6.9492392 ],\n",
       "        [-1.57671974,  4.95740592],\n",
       "        [-1.22324754,  3.95183925],\n",
       "        [-3.06919216,  3.78003032],\n",
       "        [-0.71716328,  3.99781348],\n",
       "        [-2.91891993,  3.51008794],\n",
       "        [-2.93398383,  7.952935  ],\n",
       "        [-2.38320684,  4.17775759],\n",
       "        [-2.96231237,  7.99469422],\n",
       "        [-2.15588472,  3.98795477],\n",
       "        [-1.60652655,  3.14983696],\n",
       "        [-3.44064668,  3.58144384],\n",
       "        [-3.21163297,  2.4184655 ],\n",
       "        [-3.08891836,  3.92398933],\n",
       "        [-2.62500197,  3.43014899],\n",
       "        [-2.41380834,  3.79618602],\n",
       "        [-0.71195995,  4.19132134],\n",
       "        [-3.05453596,  3.84662419],\n",
       "        [-1.57701147,  3.34951611],\n",
       "        [-1.71469894,  3.40481957],\n",
       "        [-2.06317416,  4.12771948],\n",
       "        [-2.82000651,  7.80761164],\n",
       "        [-1.90445093,  3.77252499],\n",
       "        [-2.92174421,  3.71343181],\n",
       "        [-1.57150341,  3.17801517],\n",
       "        [-2.74298059,  3.05855416],\n",
       "        [-2.67088471,  2.19830841],\n",
       "        [-3.19468391,  3.50592001],\n",
       "        [-1.31968662,  3.50145219],\n",
       "        [-1.1073799 ,  3.84231628],\n",
       "        [-3.04687847,  2.70134939],\n",
       "        [-2.43035917,  7.11928196],\n",
       "        [-1.53803964,  4.26195664],\n",
       "        [-1.31234996,  4.55527174],\n",
       "        [-0.84798658,  4.60739123],\n",
       "        [-2.24674042,  7.1492405 ],\n",
       "        [-3.14658858,  3.49050928],\n",
       "        [-2.8232644 ,  2.82485812],\n",
       "        [-4.35891588,  1.8344556 ],\n",
       "        [-1.96045835,  2.95587827],\n",
       "        [-2.16233445,  3.77071203],\n",
       "        [-1.38790374,  4.32412151],\n",
       "        [-2.42431352,  4.25411735],\n",
       "        [-2.25737981,  6.46990729],\n",
       "        [-3.89909788,  1.53613725],\n",
       "        [-2.26607321,  2.85915607],\n",
       "        [-2.2863995 ,  2.66712558],\n",
       "        [-2.05184344,  3.19229926],\n",
       "        [-2.77624253,  2.20809716],\n",
       "        [-3.67502249,  1.88471749],\n",
       "        [-2.78839576,  3.43188644],\n",
       "        [-1.20052892,  4.40101089],\n",
       "        [-3.84067713,  2.07531056],\n",
       "        [-1.72781155,  3.04041358],\n",
       "        [-0.63762777,  4.09104705],\n",
       "        [-3.22303528,  3.64806579],\n",
       "        [-4.12029258,  3.01513314],\n",
       "        [-2.62519344,  3.49049561],\n",
       "        [-1.87431405,  6.5052656 ],\n",
       "        [-1.92035313,  2.9205998 ],\n",
       "        [-3.12874497,  2.8799752 ],\n",
       "        [-2.91295381,  8.2658389 ],\n",
       "        [-2.53016977,  3.09251184],\n",
       "        [-1.68290216,  4.91010685],\n",
       "        [-1.54035548,  3.73335423],\n",
       "        [-1.57094891,  4.87744427],\n",
       "        [-1.31956997,  3.67703894],\n",
       "        [-2.88980973,  6.94543446],\n",
       "        [-1.82965003,  3.9075617 ],\n",
       "        [-2.00207912,  4.19083601],\n",
       "        [-2.44002555,  2.73942545],\n",
       "        [-1.93237647,  3.35182123],\n",
       "        [-2.93336367,  2.74305889],\n",
       "        [-2.86271675,  7.62686069],\n",
       "        [-3.38438728,  3.3004804 ],\n",
       "        [-2.92923455,  2.61081377],\n",
       "        [-2.53936117,  4.16845209],\n",
       "        [-0.51473572,  4.30206899],\n",
       "        [-2.62079907,  3.12367907],\n",
       "        [-1.78377371,  3.21135366],\n",
       "        [-0.94353601,  3.84448703],\n",
       "        [-1.02794564,  4.68066385],\n",
       "        [-2.27057619,  2.75887001],\n",
       "        [-1.11833299,  4.42750924],\n",
       "        [-2.73073174,  7.87565053],\n",
       "        [-2.62966743,  7.22282146],\n",
       "        [-1.78313671,  3.77554417],\n",
       "        [-3.07233533,  7.2567515 ],\n",
       "        [-1.75302648,  4.843688  ],\n",
       "        [-2.11146399,  6.5529566 ],\n",
       "        [-2.92716022,  3.09256235],\n",
       "        [-1.32750694,  4.86364365],\n",
       "        [-2.56250974,  3.05954943],\n",
       "        [-1.40033521,  3.71088933],\n",
       "        [-2.84742936,  3.41696654],\n",
       "        [-1.38609336,  3.39137052],\n",
       "        [-2.46706061,  2.52135852],\n",
       "        [-1.04013655,  3.76433269],\n",
       "        [-1.03028881,  3.93001545],\n",
       "        [-2.46022025,  2.88340722],\n",
       "        [-2.00829664,  4.31494756],\n",
       "        [-1.27463323,  5.20348344],\n",
       "        [-2.12357487,  3.48494047],\n",
       "        [-1.71049478,  3.24308098],\n",
       "        [-2.89747593,  3.22844697],\n",
       "        [-2.92158365,  3.29105698],\n",
       "        [-1.1941058 ,  3.93163281],\n",
       "        [-1.81286316,  4.41479325],\n",
       "        [-2.36301539,  3.5600932 ],\n",
       "        [-3.33284028,  2.89855947],\n",
       "        [-2.10314583,  3.49249118],\n",
       "        [-2.25765635,  6.79859285],\n",
       "        [-1.53283142,  4.28394233],\n",
       "        [-3.47036086,  3.42618145],\n",
       "        [-3.18527718,  7.685976  ],\n",
       "        [-3.23953334,  3.53083463],\n",
       "        [-2.58547591,  2.40887642],\n",
       "        [-0.86679947,  3.82581332],\n",
       "        [-0.96000973,  4.49256592],\n",
       "        [-1.26333398,  4.70528638],\n",
       "        [-2.29323161,  4.1993936 ],\n",
       "        [-2.96690565,  6.77850325],\n",
       "        [-3.24752337,  7.65708891],\n",
       "        [-2.42897598,  3.23888173],\n",
       "        [-1.01602919,  4.2320367 ],\n",
       "        [-2.79324669,  2.8563875 ],\n",
       "        [-1.62096646,  3.31544748],\n",
       "        [-0.94105321,  4.05427034],\n",
       "        [-2.99730575,  3.92830981],\n",
       "        [-2.04860054,  3.69548954],\n",
       "        [-1.80588562,  3.44771604],\n",
       "        [-1.97594115,  3.40885332],\n",
       "        [-1.26810645,  3.95812123],\n",
       "        [-1.8279988 ,  3.45487018],\n",
       "        [-1.93712271,  4.30006415],\n",
       "        [-1.63934777,  3.81574643],\n",
       "        [-2.3111254 ,  3.64917588],\n",
       "        [-2.12382113,  2.69492308],\n",
       "        [-3.79056431,  3.29290218],\n",
       "        [-1.82691067,  3.79339141],\n",
       "        [-1.57104373,  4.53634159],\n",
       "        [-0.89251734,  4.54715803],\n",
       "        [-2.01673223,  3.5766844 ],\n",
       "        [-2.23818977,  4.04583889],\n",
       "        [-1.39331683,  5.16783963],\n",
       "        [-1.20687208,  4.99705893],\n",
       "        [-0.95611548,  4.4606786 ],\n",
       "        [-2.8404664 ,  7.86964978],\n",
       "        [-1.64549064,  3.40625285],\n",
       "        [-0.93160371,  4.08203403],\n",
       "        [-1.75919802,  3.64681213],\n",
       "        [-1.85563171,  3.58184734],\n",
       "        [-3.36508075,  3.57091954],\n",
       "        [-4.98835641,  8.80903681],\n",
       "        [-2.75745006,  2.41097565],\n",
       "        [-2.46203122,  3.29970627],\n",
       "        [-1.90508206,  3.77077136],\n",
       "        [-0.95595417,  3.99018291],\n",
       "        [-2.85679587,  2.56238749],\n",
       "        [-1.87013907,  2.98865634],\n",
       "        [-2.0682636 ,  3.00940421],\n",
       "        [-2.72016185,  3.26814818],\n",
       "        [-1.6842093 ,  3.19412211],\n",
       "        [-1.74847841,  3.34213488],\n",
       "        [-1.68097641,  4.11149394],\n",
       "        [-2.07770344,  3.70992376],\n",
       "        [-3.02494679,  6.90067699],\n",
       "        [-1.23112492,  3.76047106],\n",
       "        [-2.72805139,  7.97014728],\n",
       "        [-1.98653046,  2.92146547],\n",
       "        [-3.32667519,  1.81319211],\n",
       "        [-2.44753039,  3.83981707],\n",
       "        [-1.61019241,  4.52074589],\n",
       "        [-1.57418173,  3.58202631],\n",
       "        [-2.14180117,  6.71693414],\n",
       "        [-3.02723239,  2.09937812],\n",
       "        [-0.56096789,  4.34048701],\n",
       "        [-0.56452694,  4.36704932],\n",
       "        [-2.63455091,  3.15285945],\n",
       "        [-3.88054441,  1.91273783],\n",
       "        [-1.5817922 ,  3.44043986],\n",
       "        [-4.6437606 ,  3.56233429],\n",
       "        [-2.67015941,  6.89945052],\n",
       "        [-3.21228612,  3.22089331],\n",
       "        [-1.81503547,  3.62966753],\n",
       "        [-0.7796205 ,  4.75472179],\n",
       "        [-2.31159142,  2.58230162],\n",
       "        [-3.56145771,  7.51931844],\n",
       "        [-2.31340388,  5.671799  ]])}"
      ]
     },
     "execution_count": 64,
     "metadata": {},
     "output_type": "execute_result"
    }
   ],
   "source": [
    "cent"
   ]
  },
  {
   "cell_type": "code",
   "execution_count": 65,
   "id": "137797d0",
   "metadata": {},
   "outputs": [],
   "source": [
    "# Geting mean and updating it\n",
    "for k in range(K):\n",
    "     centroids[:,k]=np.mean(cent[k+1],axis=0)"
   ]
  },
  {
   "cell_type": "code",
   "execution_count": 66,
   "id": "e90d7d2e",
   "metadata": {},
   "outputs": [
    {
     "data": {
      "text/plain": [
       "array([-2.24265425,  4.1537276 ])"
      ]
     },
     "execution_count": 66,
     "metadata": {},
     "output_type": "execute_result"
    }
   ],
   "source": [
    "centroids[:,k]"
   ]
  },
  {
   "cell_type": "code",
   "execution_count": 67,
   "id": "ee271a7b",
   "metadata": {},
   "outputs": [],
   "source": [
    "# repeating the above steps again and again\n",
    "for i in range(num_iters):\n",
    "    euclid=np.array([]).reshape(m,0)\n",
    "    \n",
    "    for k in range(K):\n",
    "        dist=np.sum((X-centroids[:,k])**2,axis=1)\n",
    "        euclid=np.c_[euclid,dist]\n",
    "    C=np.argmin(euclid,axis=1)+1\n",
    "    cent={}\n",
    "    for k in range(K):\n",
    "        cent[k+1]=np.array([]).reshape(2,0)\n",
    "\n",
    "    for k in range(m):\n",
    "        cent[C[k]]=np.c_[cent[C[k]],X[k]]\n",
    "\n",
    "    for k in range(K):\n",
    "        cent[k+1]=cent[k+1].T\n",
    "\n",
    "    for k in range(K):\n",
    "        centroids[:,k]=np.mean(cent[k+1],axis=0)\n",
    "    final=cent"
   ]
  },
  {
   "cell_type": "code",
   "execution_count": 68,
   "id": "435e342b",
   "metadata": {},
   "outputs": [
    {
     "data": {
      "text/plain": [
       "{1: array([[2.25309569, 0.99541446],\n",
       "        [3.79589697, 0.60417861],\n",
       "        [2.06850729, 0.77571873],\n",
       "        ...,\n",
       "        [3.10944543, 1.84849736],\n",
       "        [2.99139667, 1.57604376],\n",
       "        [2.30405277, 4.20250584]]),\n",
       " 2: array([[-1.58231872,  8.74311864],\n",
       "        [-1.33558396,  7.28149527],\n",
       "        [-1.25187859,  7.35517291],\n",
       "        ...,\n",
       "        [-0.41862593,  8.24884504],\n",
       "        [-1.26731399,  8.04111669],\n",
       "        [-1.09755763,  8.53097833]]),\n",
       " 3: array([[-0.46530384,  1.73299482],\n",
       "        [-0.33963733,  3.84220272],\n",
       "        [-1.76144205,  2.05452668],\n",
       "        ...,\n",
       "        [-0.42969284,  3.71372968],\n",
       "        [ 1.03616476,  4.09126428],\n",
       "        [-0.5901088 ,  3.68821314]])}"
      ]
     },
     "execution_count": 68,
     "metadata": {},
     "output_type": "execute_result"
    }
   ],
   "source": [
    "final"
   ]
  },
  {
   "cell_type": "code",
   "execution_count": 69,
   "id": "ffaf9b1a",
   "metadata": {},
   "outputs": [
    {
     "data": {
      "text/plain": [
       "Text(0.5, 1.0, 'Original Dataset')"
      ]
     },
     "execution_count": 69,
     "metadata": {},
     "output_type": "execute_result"
    },
    {
     "data": {
      "image/png": "[encoded data removed]",
      "text/plain": [
       "<Figure size 640x480 with 1 Axes>"
      ]
     },
     "metadata": {},
     "output_type": "display_data"
    }
   ],
   "source": [
    "# Plotting Scatter Plot for Original Data\n",
    "plt.scatter(X[:,0],X[:,1])\n",
    "plt.title('Original Dataset')"
   ]
  },
  {
   "cell_type": "code",
   "execution_count": 70,
   "id": "187b2d3a",
   "metadata": {},
   "outputs": [
    {
     "data": {
      "image/png": "[encoded data removed]",
      "text/plain": [
       "<Figure size 640x480 with 1 Axes>"
      ]
     },
     "metadata": {},
     "output_type": "display_data"
    }
   ],
   "source": [
    "# Plotting Scatter Plot for Final Output using K-Mean Clustring\n",
    "for k in range(K):\n",
    "    plt.scatter(final[k+1][:,0],final[k+1][:,1])\n",
    "    plt.scatter(centroids[0,:],centroids[1,:],s=300,c='yellow')\n",
    "plt.show()"
   ]
  }
 ],
 "metadata": {
  "kernelspec": {
   "display_name": "Python 3 (ipykernel)",
   "language": "python",
   "name": "python3"
  },
  "language_info": {
   "codemirror_mode": {
    "name": "ipython",
    "version": 3
   },
   "file_extension": ".py",
   "mimetype": "text/x-python",
   "name": "python",
   "nbconvert_exporter": "python",
   "pygments_lexer": "ipython3",
   "version": "3.9.13"
  }
 },
 "nbformat": 4,
 "nbformat_minor": 5
}
